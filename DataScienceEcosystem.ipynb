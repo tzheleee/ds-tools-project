{
 "cells": [
  {
   "cell_type": "markdown",
   "id": "0f828a54-e1b4-416a-a295-124d120966ca",
   "metadata": {},
   "source": [
    "# Data Science Tools and Ecosystem"
   ]
  },
  {
   "cell_type": "markdown",
   "id": "3212b0c6-a521-4fd3-8d3b-c5ed99ed8f35",
   "metadata": {},
   "source": [
    "#### In this notebook, Data Science Tools and Ecosystem are summarized."
   ]
  },
  {
   "cell_type": "markdown",
   "id": "174ee0c7-42e1-4a18-95e9-68ff184c2edb",
   "metadata": {},
   "source": [
    "### Objectives:\n",
    "- Popular Languages\n",
    "- Commonly used libraries\n",
    "- Data Science tools\n",
    "- Examples of arithmetic expressions\n"
   ]
  },
  {
   "cell_type": "markdown",
   "id": "1ad8b6ef-12e0-4dad-921f-e1c0712a570a",
   "metadata": {},
   "source": [
    "#### Some of the popular languages that Data Scientists use are:\n",
    "1. Python\n",
    "2. R\n",
    "3. SQL\n",
    "4. Julia\n",
    "5. Java\n",
    "   "
   ]
  },
  {
   "cell_type": "markdown",
   "id": "2b66dcc3-1f98-4923-8115-24154f56515c",
   "metadata": {},
   "source": [
    "#### Some of the commonly used libraries used by Data Scientists include:\n",
    "1. Pandas\n",
    "2. Numpy\n",
    "3. Scikit-learm\n",
    "4. Matplotlib"
   ]
  },
  {
   "cell_type": "markdown",
   "id": "a06efcbb-2d96-4b80-a855-6907a5cbfbf0",
   "metadata": {},
   "source": [
    "# Data Science Tools"
   ]
  },
  {
   "cell_type": "markdown",
   "id": "0bbd8f73-c1c8-4b4e-a5f3-6089590b98aa",
   "metadata": {},
   "source": [
    "|Data Science Tools|\n",
    "|------------------|\n",
    "|Jupyter Notebook  |\n",
    "|Anaconda          |\n",
    "|VSCode            |"
   ]
  },
  {
   "cell_type": "markdown",
   "id": "bcc508d2-ffef-4601-8aca-83cf47f11455",
   "metadata": {},
   "source": [
    "### Below are a few examples of evaluating arithmetic expressions in Python."
   ]
  },
  {
   "cell_type": "code",
   "execution_count": 29,
   "id": "d5bcfac5-5723-4dd4-8c83-8a2b567277ed",
   "metadata": {},
   "outputs": [
    {
     "name": "stdout",
     "output_type": "stream",
     "text": [
      "2\n"
     ]
    }
   ],
   "source": [
    "print(1+1)"
   ]
  },
  {
   "cell_type": "code",
   "execution_count": 31,
   "id": "ce48fe94-f63a-42a6-8d54-374f31a2ad25",
   "metadata": {},
   "outputs": [
    {
     "name": "stdout",
     "output_type": "stream",
     "text": [
      "8\n"
     ]
    }
   ],
   "source": [
    "print(2*4)"
   ]
  },
  {
   "cell_type": "code",
   "execution_count": 33,
   "id": "1129d5d4-49d2-4e1d-b63e-18da3a4bc03c",
   "metadata": {},
   "outputs": [
    {
     "name": "stdout",
     "output_type": "stream",
     "text": [
      "5.0\n"
     ]
    }
   ],
   "source": [
    "print(15/3)"
   ]
  },
  {
   "cell_type": "markdown",
   "id": "591327fd-ad1c-497f-a411-b1e1306ed4db",
   "metadata": {},
   "source": [
    "### This a simple arithmetic expression to mutiply then add integers"
   ]
  },
  {
   "cell_type": "code",
   "execution_count": 27,
   "id": "6fd5d02a-d93e-444e-90e8-d37df9176f9b",
   "metadata": {},
   "outputs": [
    {
     "name": "stdout",
     "output_type": "stream",
     "text": [
      "17\n"
     ]
    }
   ],
   "source": [
    "print((3*4)+5)"
   ]
  },
  {
   "cell_type": "markdown",
   "id": "3f0e5b7b-cb48-4da2-9a3a-c7b8accdcfe8",
   "metadata": {},
   "source": [
    "### This will convert 200 minutes to hours by diving by 60"
   ]
  },
  {
   "cell_type": "code",
   "execution_count": 35,
   "id": "b3c41f0a-fcfe-4340-bcba-472d7f7f7a67",
   "metadata": {},
   "outputs": [
    {
     "name": "stdout",
     "output_type": "stream",
     "text": [
      "3.3333333333333335\n"
     ]
    }
   ],
   "source": [
    "print(200/60)"
   ]
  },
  {
   "cell_type": "markdown",
   "id": "37d403b8-c729-4757-8829-056979bde9ff",
   "metadata": {},
   "source": [
    "## Author"
   ]
  },
  {
   "cell_type": "markdown",
   "id": "4cc0d793-d4bd-4124-9370-a209fa566d50",
   "metadata": {},
   "source": [
    "#### Tetiana Hrybach"
   ]
  }
 ],
 "metadata": {
  "kernelspec": {
   "display_name": "Python 3 (ipykernel)",
   "language": "python",
   "name": "python3"
  },
  "language_info": {
   "codemirror_mode": {
    "name": "ipython",
    "version": 3
   },
   "file_extension": ".py",
   "mimetype": "text/x-python",
   "name": "python",
   "nbconvert_exporter": "python",
   "pygments_lexer": "ipython3",
   "version": "3.12.4"
  }
 },
 "nbformat": 4,
 "nbformat_minor": 5
}
